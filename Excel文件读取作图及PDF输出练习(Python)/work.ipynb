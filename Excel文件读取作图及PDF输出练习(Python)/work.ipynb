{
 "cells": [
  {
   "cell_type": "code",
   "execution_count": 1,
   "metadata": {
    "collapsed": true,
    "pycharm": {
     "name": "#%%\n"
    }
   },
   "outputs": [],
   "source": [
    "import pandas as pd\n",
    "data11 = pd.read_excel('2-1.xlsx',sheet_name=\"一区队\",index_col=0)\n",
    "data12 = pd.read_excel('2-1.xlsx',sheet_name=\"二区队\",index_col=0)\n",
    "data13 = pd.read_excel('2-1.xlsx',sheet_name=\"三区队\",index_col=0)\n",
    "data2 = pd.read_excel('2-2.xlsx',index_col=0)"
   ]
  },
  {
   "cell_type": "code",
   "execution_count": 2,
   "outputs": [],
   "source": [
    "import os\n",
    "thisData = pd.concat([data11])\n",
    "thisData.to_excel(os.path.join(\"all.xlsx\"))"
   ],
   "metadata": {
    "collapsed": false,
    "pycharm": {
     "name": "#%%\n"
    }
   }
  },
  {
   "cell_type": "code",
   "execution_count": 3,
   "outputs": [],
   "source": [
    "index = ['班级','学号','姓名','性别','出生日期','年龄','身高(M)','体重(KG)',\n",
    "         '引体向上/次','仰卧起坐/次','蛇形跑/秒','3000米/分秒']\n",
    "for thisIndex in index:\n",
    "    try:\n",
    "        data2[thisIndex] = thisData[thisIndex]\n",
    "    except KeyError:\n",
    "        data2[thisIndex] = ' '"
   ],
   "metadata": {
    "collapsed": false,
    "pycharm": {
     "name": "#%%\n"
    }
   }
  },
  {
   "cell_type": "code",
   "execution_count": 4,
   "outputs": [],
   "source": [
    "def taskToScore(scoreList,hisAns,p):\n",
    "    ans = 100\n",
    "    if p*hisAns>p*scoreList[0]:\n",
    "        return '100'\n",
    "    for i in range(1,10):\n",
    "        if p*hisAns>p*scoreList[i]:\n",
    "            ans = ans-5*i\n",
    "            if p*scoreList[i-1]-p*scoreList[i]>0:\n",
    "                ans += (hisAns-scoreList[i])/(scoreList[i-1]-scoreList[i])*5\n",
    "            break\n",
    "    if ans==100:\n",
    "        return '50'\n",
    "    return '%.2f'%ans\n",
    "def mmss2mm(listIn):\n",
    "    for i in range(0, len(listIn)):\n",
    "        listIn[i] = listIn[i] // 100 + float(listIn[i] % 100 / 60)\n",
    "    return listIn\n",
    "\n",
    "\n",
    "weight = list(data2['体重(KG)'])\n",
    "high = list(data2['身高(M)'])\n",
    "age = list(data2['年龄'])\n",
    "taskA = list(data2['引体向上/次'])\n",
    "taskB = list(data2['仰卧起坐/次'])\n",
    "taskC = list(data2['蛇形跑/秒'])\n",
    "taskD = list(data2['3000米/分秒'])\n",
    "classID = list(data2['班级'])\n",
    "BMI = []\n",
    "BMIJudge = []\n",
    "taskAScore = []\n",
    "taskBScore = []\n",
    "taskCScore = []\n",
    "taskDScore = []\n",
    "taskAllScore = []\n",
    "taskJudgeScore = []\n",
    "countLv = [0,0,0,0]\n",
    "for i in range(0,len(weight)):\n",
    "    thisBIM = float(weight[i])/float(high[i])/float(high[i])\n",
    "    BMI.append(\"%.2f\"%thisBIM)\n",
    "    high[i] = i+1\n",
    "    if thisBIM<=18.4 or thisBIM>=28:\n",
    "        BMIJudge.append(\"不合格\")\n",
    "    else:\n",
    "        BMIJudge.append(\"合格\")\n",
    "    ageLv = 0\n",
    "    thisAge = int(age[i])\n",
    "    if thisAge>30:\n",
    "        ageLv=3\n",
    "    elif thisAge>27:\n",
    "        ageLv=2\n",
    "    elif thisAge>24:\n",
    "        ageLv=1\n",
    "    else:\n",
    "        ageLv=0\n",
    "    if ageLv==0:\n",
    "        listA0 = [30,27,24,21,18,15,14,12,11,10]\n",
    "        listB0 = [87,82,77,72,67,62,58,54,50,46]\n",
    "        listC0 = [18.1,18.7,19,19.2,19.5,19.7,19.9,20.1,20.4,21.2]\n",
    "        listD0 = [1130,1155,1210,1225,1240,1255,1310,1330,1335,1340]\n",
    "        listD0 = mmss2mm(listD0)\n",
    "    elif ageLv==1 or ageLv==2:\n",
    "        listA0 = [28,25,22,19,16,14,13,11,10,9]\n",
    "        listB0 = [82,77,72,67,63,59,55,51,47,43]\n",
    "        listC0 = [18.3,18.9,19.3,19.5,19.8,20,20.2,20.4,20.8,21.5]\n",
    "        listD0 = [1142,1207,1222,1237,1252,1307,1322,1342,1345,1352]\n",
    "        listD0 = mmss2mm(listD0)\n",
    "    else:\n",
    "        listA0 = [13,20,17,15,13,11,10,9,8,7]\n",
    "        listB0 = [78,73,68,63,59,55,51,47,13,39,35]\n",
    "        listC0 = [18.7,19.3,19.7,19.9,20.1,20.3,20.7,21.1,21.3,21.7,22.6]\n",
    "        listD0 = [1254,1319,1334,1349,1404,1419,1434,1444,1455,1500]\n",
    "        listD0 = mmss2mm(listD0)\n",
    "    taskAScore.append(taskToScore(listA0,int(taskA[i]),1))\n",
    "    taskBScore.append(taskToScore(listB0,int(taskB[i]),1))\n",
    "    taskCScore.append(taskToScore(listC0,int(taskC[i]),-1))\n",
    "    timeD = int(taskD[i][0:2])+float(taskD[i][3:5])/60\n",
    "    taskDScore.append(taskToScore(listD0,timeD,-1))\n",
    "    taskAllScore.append(\n",
    "        float(taskAScore[i])+float(taskBScore[i])+float(taskCScore[i])+float(taskDScore[i]))\n",
    "    if taskAllScore[i]>340:\n",
    "        taskJudgeScore.append(\"优秀\")\n",
    "        countLv[0]+=1\n",
    "    elif  taskAllScore[i]>300:\n",
    "        taskJudgeScore.append(\"良好\")\n",
    "        countLv[1]+=1\n",
    "    elif  taskAllScore[i]>220:\n",
    "        taskJudgeScore.append(\"及格\")\n",
    "        countLv[2]+=1\n",
    "    else:\n",
    "        taskJudgeScore.append(\"不及格\")\n",
    "        countLv[3]+=1\n",
    "data2['序号'] = high\n",
    "data2['BMI'] = BMI\n",
    "data2['BMI评定'] = BMIJudge\n",
    "data2['引体向上成绩'] = taskAScore\n",
    "data2['仰卧起坐成绩'] = taskBScore\n",
    "data2['蛇形跑成绩'] = taskCScore\n",
    "data2['3000米成绩'] = taskDScore\n",
    "data2['总成绩'] = taskAllScore\n",
    "data2['总评'] = taskJudgeScore\n",
    "data2.to_excel(os.path.join(\"./Output/数据汇总表.xlsx\"))\n",
    "#data2['BMI'] = (float)thisData['体重(KG)']/thisData['身高(M)']/thisData['身高(M)']"
   ],
   "metadata": {
    "collapsed": false,
    "pycharm": {
     "name": "#%%\n"
    }
   }
  },
  {
   "cell_type": "code",
   "execution_count": 5,
   "outputs": [
    {
     "data": {
      "text/plain": "<Figure size 432x288 with 1 Axes>",
      "image/png": "[encoded data removed]"
     },
     "metadata": {},
     "output_type": "display_data"
    }
   ],
   "source": [
    "import matplotlib.pyplot as plt\n",
    "import matplotlib as mpl\n",
    "mpl.rcParams['font.family'] = 'SimHei'\n",
    "p1 = plt.pie(countLv,\n",
    "             labels=['优秀','良好','及格','不及格'],\n",
    "             autopct='%.1f%%')\n",
    "plt.title(\"各等级人数分布图\")\n",
    "plt.savefig('./Output/P1.png')"
   ],
   "metadata": {
    "collapsed": false,
    "pycharm": {
     "name": "#%%\n"
    }
   }
  },
  {
   "cell_type": "code",
   "execution_count": 6,
   "outputs": [
    {
     "data": {
      "text/plain": "<Figure size 432x288 with 1 Axes>",
      "image/png": "[encoded data removed]"
     },
     "metadata": {
      "needs_background": "light"
     },
     "output_type": "display_data"
    }
   ],
   "source": [
    "def autolabel(rects):\n",
    "    for rect in rects:\n",
    "        height = rect.get_height()\n",
    "        plt.text(rect.get_x()+rect.get_width()/2.-0.04, 1.01*height, '%s' % int(height), size=10, family=\"Times new roman\")\n",
    "\n",
    "p2 = plt.bar(['优秀','良好','及格','不及格'],countLv)\n",
    "plt.xlabel(\"等级\")\n",
    "plt.ylabel(\"人数\")\n",
    "plt.title(\"各等级人数频次图\")\n",
    "autolabel(p2)\n",
    "plt.savefig('./Output/P2.png')"
   ],
   "metadata": {
    "collapsed": false,
    "pycharm": {
     "name": "#%%\n"
    }
   }
  },
  {
   "cell_type": "code",
   "execution_count": 7,
   "outputs": [
    {
     "name": "stdout",
     "output_type": "stream",
     "text": [
      "[3, 2, 4, 6, 6, 4, 3, 3, 6]\n"
     ]
    },
    {
     "data": {
      "text/plain": "<Figure size 432x288 with 1 Axes>",
      "image/png": "[encoded data removed]"
     },
     "metadata": {
      "needs_background": "light"
     },
     "output_type": "display_data"
    }
   ],
   "source": [
    "def classAdd(classX,str,data):\n",
    "    if str=='优秀':\n",
    "        data[classX]+=1\n",
    "    elif str=='良好':\n",
    "        data[3+classX]+=1\n",
    "    else:\n",
    "        data[6+classX]+=1\n",
    "\n",
    "classDraw = [0,0,0,0,0,0,0,0,0]\n",
    "for i in range(0,len(weight)):\n",
    "    if classID[i] == '一班':\n",
    "        classAdd(0,taskJudgeScore[i],classDraw)\n",
    "    elif classID[i] == '三班':\n",
    "        classAdd(1,taskJudgeScore[i],classDraw)\n",
    "    else:\n",
    "         classAdd(2,taskJudgeScore[i],classDraw)\n",
    "print(classDraw)\n",
    "barWidth = 0.25   # 设置柱子的宽度\n",
    "# 设置横轴刻度在多列柱子的中间\n",
    "r1 = [0,1,2]\n",
    "r2 = [x + barWidth for x in r1]\n",
    "r3 = [x + barWidth for x in r2]\n",
    "plt.bar(r1,classDraw[0:3],label='优秀',color='blue',width=barWidth)\n",
    "plt.bar(r2,classDraw[3:6],label='良好',color='yellow',width=barWidth)\n",
    "p3 = plt.bar(r3,classDraw[6:9],label='及格',color='green',width=barWidth)\n",
    "plt.xticks([r + barWidth for r in range(3)], labels=['一班','三班','二班'], fontproperties='SimHei', size=10)\n",
    "plt.legend(loc=1,prop={'family': 'SimHei', 'size': 10})\n",
    "plt.xlabel('班级')\n",
    "plt.ylabel('人数')\n",
    "plt.title('各班总评各等级人数对比图')\n",
    "plt.savefig('./Output/P3.png')"
   ],
   "metadata": {
    "collapsed": false,
    "pycharm": {
     "name": "#%%\n"
    }
   }
  },
  {
   "cell_type": "code",
   "execution_count": 8,
   "outputs": [
    {
     "data": {
      "text/plain": "<Figure size 432x288 with 1 Axes>",
      "image/png": "[encoded data removed]"
     },
     "metadata": {
      "needs_background": "light"
     },
     "output_type": "display_data"
    }
   ],
   "source": [
    "p4 = plt.scatter(weight, taskA)\n",
    "plt.xlabel('体重(KG)')\n",
    "plt.ylabel('引体向上(个)')\n",
    "plt.title('体重与引体向上的关系')\n",
    "plt.savefig('./Output/P4.png')"
   ],
   "metadata": {
    "collapsed": false,
    "pycharm": {
     "name": "#%%\n"
    }
   }
  },
  {
   "cell_type": "code",
   "execution_count": null,
   "outputs": [],
   "source": [
    "import reportlab\n",
    "from reportlab.pdfbase import pdfmetrics   # 注册字体\n",
    "from reportlab.pdfbase.ttfonts import TTFont # 字体类\n",
    "from reportlab.platypus import Table, SimpleDocTemplate, Paragraph, Image  # 报告内容相关类\n",
    "from reportlab.lib.pagesizes import letter  # 页面的标志尺寸(8.5*inch, 11*inch)\n",
    "from reportlab.lib.styles import getSampleStyleSheet  # 文本样式\n",
    "from reportlab.lib import colors  # 颜色模块\n",
    "from reportlab.graphics.charts.barcharts import VerticalBarChart  # 图表类\n",
    "from reportlab.graphics.charts.legends import Legend  # 图例类\n",
    "from reportlab.graphics.shapes import Drawing  # 绘图工具\n",
    "from reportlab.lib.units import cm  # 单位：cm\n",
    "\n",
    "# 注册字体(提前准备好字体文件, 如果同一个文件需要多种字体可以注册多个)\n",
    "pdfmetrics.registerFont(TTFont('SimSun', 'SimSun.ttf'))\n",
    "class Graphs:\n",
    "    # 绘制标题\n",
    "    @staticmethod\n",
    "    def draw_title(title: str):\n",
    "        # 获取所有样式表\n",
    "        style = getSampleStyleSheet()\n",
    "        # 拿到标题样式\n",
    "        ct = style['Heading1']\n",
    "        # 单独设置样式相关属性\n",
    "        ct.fontName = 'SimSun'      # 字体名\n",
    "        ct.fontSize = 18            # 字体大小\n",
    "        ct.leading = 50             # 行间距\n",
    "        ct.textColor = colors.green     # 字体颜色\n",
    "        ct.alignment = 1    # 居中\n",
    "        ct.bold = True\n",
    "        # 创建标题对应的段落，并且返回\n",
    "        return Paragraph(title, ct)\n",
    "\n",
    "  # 绘制小标题\n",
    "    @staticmethod\n",
    "    def draw_little_title(title: str):\n",
    "        # 获取所有样式表\n",
    "        style = getSampleStyleSheet()\n",
    "        # 拿到标题样式\n",
    "        ct = style['Normal']\n",
    "        # 单独设置样式相关属性\n",
    "        ct.fontName = 'SimSun'  # 字体名\n",
    "        ct.fontSize = 15  # 字体大小\n",
    "        ct.leading = 30  # 行间距\n",
    "        ct.textColor = colors.red  # 字体颜色\n",
    "        # 创建标题对应的段落，并且返回\n",
    "        return Paragraph(title, ct)\n",
    "\n",
    "    # 绘制普通段落内容\n",
    "    @staticmethod\n",
    "    def draw_text(text: str):\n",
    "        # 获取所有样式表\n",
    "        style = getSampleStyleSheet()\n",
    "        # 获取普通样式\n",
    "        ct = style['Normal']\n",
    "        ct.fontName = 'SimSun'\n",
    "        ct.fontSize = 12\n",
    "        ct.wordWrap = 'CJK'     # 设置自动换行\n",
    "        ct.alignment = 0        # 左对齐\n",
    "        ct.firstLineIndent = 32     # 第一行开头空格\n",
    "        ct.leading = 25\n",
    "        return Paragraph(text, ct)\n",
    "\n",
    "    # 绘制表格\n",
    "    @staticmethod\n",
    "    def draw_table(*args):\n",
    "        # 列宽度\n",
    "        col_width = 25\n",
    "        style = [\n",
    "            ('FONTNAME', (0, 0), (-1, -1), 'SimSun'),  # 字体\n",
    "            ('FONTSIZE', (0, 0), (-1, 0), 3),  # 第一行的字体大小\n",
    "            ('FONTSIZE', (0, 1), (-1, -1), 5),  # 第二行到最后一行的字体大小\n",
    "            ('BACKGROUND', (0, 0), (-1, 0), '#d5dae6'),  # 设置第一行背景颜色\n",
    "            ('ALIGN', (0, 0), (-1, -1), 'CENTER'),  # 第一行水平居中\n",
    "            ('ALIGN', (0, 1), (-1, -1), 'CENTER'),  # 第二行到最后一行水平居中\n",
    "            ('VALIGN', (0, 0), (-1, -1), 'MIDDLE'),  # 所有表格上下居中对齐\n",
    "            ('TEXTCOLOR', (0, 0), (-1, -1), colors.darkslategray),  # 设置表格内文字颜色\n",
    "            ('GRID', (0, 0), (-1, -1), 0.5, colors.grey),  # 设置表格框线为grey色，线宽为0.5\n",
    "        ]\n",
    "        table = Table(args, rowHeights=10 ,colWidths=col_width, style=style)\n",
    "        return table\n",
    "\n",
    "    # 绘制图片\n",
    "    @staticmethod\n",
    "    def draw_img(path):\n",
    "        img = Image(path)       # 读取指定路径下的图片\n",
    "        return img\n",
    "\n",
    "\n",
    "content = []\n",
    "\n",
    "# 添加标题\n",
    "content.append(Graphs.draw_title('学员一队体能考核成绩分析报告'))\n",
    "content.append(Graphs.draw_text(\"本次考核共有{:}人参加，其中成绩为优秀的{:}人，良好{:}人，及格{:}人，不及格{:}人。\".format(sum(countLv),countLv[0],countLv[1],countLv[2],countLv[3])))\n",
    "linesList = []\n",
    "titles = ['序号'\t,'班级','学号','姓名','性别','出生日期','年龄','身高(M)','体重(KG)','BMI','BMI评定','引体向上/次','引体向上成绩','仰卧起坐/次','仰卧起坐成绩','蛇形跑/秒','蛇形跑成绩','3000米/分秒','3000米成绩','总成绩','总评']\n",
    "linesList.append(tuple(titles))\n",
    "for line in range(1,len(weight)+1):\n",
    "    thisLineList = []\n",
    "    for eachTitle in titles:\n",
    "        thisLineList.append(data2[eachTitle][line])\n",
    "    linesList.append(tuple(thisLineList))\n",
    "content.append(Graphs.draw_table(*linesList))\n",
    "content.append(Graphs.draw_img('./Output/P1.png'))\n",
    "content.append(Graphs.draw_img('./Output/P2.png'))\n",
    "content.append(Graphs.draw_img('./Output/P3.png'))\n",
    "content.append(Graphs.draw_img('./Output/P4.png'))\n",
    "# 生成pdf文件\n",
    "doc = SimpleDocTemplate('./Output/report.pdf', pagesize=letter)\n",
    "doc.build(content)"
   ],
   "metadata": {
    "collapsed": false,
    "pycharm": {
     "name": "#%%\n"
    }
   }
  }
 ],
 "metadata": {
  "kernelspec": {
   "display_name": "Python 3",
   "language": "python",
   "name": "python3"
  },
  "language_info": {
   "codemirror_mode": {
    "name": "ipython",
    "version": 2
   },
   "file_extension": ".py",
   "mimetype": "text/x-python",
   "name": "python",
   "nbconvert_exporter": "python",
   "pygments_lexer": "ipython2",
   "version": "2.7.6"
  }
 },
 "nbformat": 4,
 "nbformat_minor": 0
}